{
 "cells": [
  {
   "cell_type": "markdown",
   "id": "0bb71053",
   "metadata": {},
   "source": [
    "# Python Project"
   ]
  },
  {
   "cell_type": "markdown",
   "id": "14a1386d",
   "metadata": {},
   "source": [
    "##### This is my project. I obtain the dataset from online website called Kaggle. Basically the dataset contain sales of video games from 1980 until 2020, which is some of the data is not yet updated. The source of dataset is from [VGChartz.com](https://www.vgchartz.com).\n",
    "\n"
   ]
  },
  {
   "cell_type": "markdown",
   "id": "662d6b7c",
   "metadata": {},
   "source": [
    "### Importing all the libraries"
   ]
  },
  {
   "cell_type": "code",
   "execution_count": null,
   "id": "758a5f04",
   "metadata": {},
   "outputs": [],
   "source": [
    "import pandas as pd\n",
    "import numpy as np\n",
    "import matplotlib.pyplot as plt\n",
    "# set the plots to display in the Jupyter notebook\n",
    "%matplotlib inline\n"
   ]
  },
  {
   "cell_type": "markdown",
   "id": "bd3a3dbf",
   "metadata": {},
   "source": [
    "### Read the Dataset"
   ]
  },
  {
   "cell_type": "code",
   "execution_count": null,
   "id": "37bbdf83",
   "metadata": {
    "scrolled": true
   },
   "outputs": [],
   "source": [
    "#This dataset contains data about the Video Game Sales from 1980 to 2020. All columns values is in million\n",
    "df_sales = pd.read_csv(\"vgsales.csv\")\n",
    "df_sales.head()"
   ]
  },
  {
   "cell_type": "code",
   "execution_count": null,
   "id": "101969f5",
   "metadata": {},
   "outputs": [],
   "source": [
    "#checking the starting of year\n",
    "df_sales['Year'].sort_values()"
   ]
  },
  {
   "cell_type": "markdown",
   "id": "86da79ae",
   "metadata": {},
   "source": [
    "### Change the index with Rank Column"
   ]
  },
  {
   "cell_type": "code",
   "execution_count": null,
   "id": "b21aca94",
   "metadata": {
    "scrolled": true
   },
   "outputs": [],
   "source": [
    "df_sales.set_index('Rank', inplace=True)"
   ]
  },
  {
   "cell_type": "code",
   "execution_count": null,
   "id": "6300fc10",
   "metadata": {},
   "outputs": [],
   "source": [
    "df_sales.head()"
   ]
  },
  {
   "cell_type": "markdown",
   "id": "ac9ebafc",
   "metadata": {},
   "source": [
    "### Checking the number of row and column"
   ]
  },
  {
   "cell_type": "code",
   "execution_count": null,
   "id": "475a7175",
   "metadata": {},
   "outputs": [],
   "source": [
    "#checking number row and column\n",
    "df_sales.shape"
   ]
  },
  {
   "cell_type": "code",
   "execution_count": null,
   "id": "7dbdc1f0",
   "metadata": {},
   "outputs": [],
   "source": [
    "#show the title of column in dataset\n",
    "df_sales.columns"
   ]
  },
  {
   "cell_type": "markdown",
   "id": "5e9e44e2",
   "metadata": {},
   "source": [
    "### Getting Null Value inside Data"
   ]
  },
  {
   "cell_type": "code",
   "execution_count": null,
   "id": "82dc2ce2",
   "metadata": {
    "scrolled": true
   },
   "outputs": [],
   "source": [
    "#calculate how many null values is exist inside the datasets\n",
    "df_sales.isna().sum()"
   ]
  },
  {
   "cell_type": "markdown",
   "id": "ea7ff04e",
   "metadata": {},
   "source": [
    "### Dropping the null value"
   ]
  },
  {
   "cell_type": "code",
   "execution_count": null,
   "id": "8259c517",
   "metadata": {},
   "outputs": [],
   "source": [
    "#dropping the null values\n",
    "df_sales = df_sales.dropna(subset=['Year', 'Publisher'], axis=0) #axis=0 is row, while 1 is column\n",
    "df_sales = df_sales.reset_index(drop=True)\n",
    "df_sales.isna().sum()"
   ]
  },
  {
   "cell_type": "markdown",
   "id": "dd698ff1",
   "metadata": {},
   "source": [
    "### Checking for any duplicate "
   ]
  },
  {
   "cell_type": "code",
   "execution_count": null,
   "id": "c0fa2a3a",
   "metadata": {},
   "outputs": [],
   "source": [
    "df_sales['Name'].duplicated().sum()"
   ]
  },
  {
   "cell_type": "markdown",
   "id": "bb41520a",
   "metadata": {},
   "source": [
    "### Changing the type of data\n",
    "\n",
    "###### Since the Year is show in float, need to change it to integer."
   ]
  },
  {
   "cell_type": "code",
   "execution_count": null,
   "id": "47c8d488",
   "metadata": {},
   "outputs": [],
   "source": [
    "#checking the type of value\n",
    "df_sales['Year'] = df_sales['Year'].astype(int)\n",
    "df_sales['Year'].dtype"
   ]
  },
  {
   "cell_type": "code",
   "execution_count": null,
   "id": "446a3f47",
   "metadata": {},
   "outputs": [],
   "source": [
    "#checking the data if the type has been changed\n",
    "df_sales.head()"
   ]
  },
  {
   "cell_type": "markdown",
   "id": "0f920360",
   "metadata": {},
   "source": [
    "### Sort the value by sales"
   ]
  },
  {
   "cell_type": "code",
   "execution_count": null,
   "id": "f0bcfb83",
   "metadata": {
    "scrolled": false
   },
   "outputs": [],
   "source": [
    "#sort highest value of sales\n",
    "df_sales.sort_values(by=['NA_Sales','EU_Sales', 'JP_Sales', 'Other_Sales', 'Global_Sales'], ascending = False).head(20)"
   ]
  },
  {
   "cell_type": "markdown",
   "id": "d94aa373",
   "metadata": {},
   "source": [
    "### Total Sale by Region"
   ]
  },
  {
   "cell_type": "code",
   "execution_count": null,
   "id": "601bd030",
   "metadata": {
    "scrolled": false
   },
   "outputs": [],
   "source": [
    "#total sale from 1980 until 2020\n",
    "list_sales = ['NA_Sales', 'EU_Sales', 'JP_Sales', 'Other_Sales']\n",
    "label = list_sales\n",
    "plt.figure(figsize=(10,10))\n",
    "value = df_sales[list_sales].sum()\n",
    "plt.pie(value, labels=label, autopct='%1.1f%%',shadow=False, startangle=90)\n",
    "plt.title(\"Total Sale by Region\", fontsize=20)\n",
    "plt.show()"
   ]
  },
  {
   "cell_type": "code",
   "execution_count": null,
   "id": "87ed9e14",
   "metadata": {
    "scrolled": true
   },
   "outputs": [],
   "source": [
    "df_sales.groupby(['Year'])['Global_Sales'].sum()"
   ]
  },
  {
   "cell_type": "markdown",
   "id": "ba3ad3ec",
   "metadata": {},
   "source": [
    "### Total Sale by Year"
   ]
  },
  {
   "cell_type": "code",
   "execution_count": null,
   "id": "5eee1c6c",
   "metadata": {
    "scrolled": false
   },
   "outputs": [],
   "source": [
    "#total sale by year\n",
    "\n",
    "sales_per_year = df_sales.groupby(['Year'])[list_sales].sum()\n",
    "sales_per_year.plot(figsize=(10,10));\n",
    "plt.title('Total Sale by Year', fontsize=22)\n",
    "plt.ylabel('Value (million)', fontsize=20)\n",
    "plt.xlabel('Year', fontsize=20)\n",
    "\n",
    "plt.show()"
   ]
  },
  {
   "cell_type": "markdown",
   "id": "7f70ba8a",
   "metadata": {},
   "source": [
    "### Average Sale Per Year Globally"
   ]
  },
  {
   "cell_type": "code",
   "execution_count": null,
   "id": "5a967c02",
   "metadata": {},
   "outputs": [],
   "source": [
    "avg_sales_per_year = df_sales.groupby(['Year'])['Global_Sales'].sum() / 12 #divide by 12 because 1 year = 12months\n",
    "avg_sales_per_year.plot(figsize=(10,10))\n",
    "plt.title('Average Sale per Year Globally')\n",
    "plt.ylabel('Value (millions)')\n",
    "plt.show()"
   ]
  },
  {
   "cell_type": "markdown",
   "id": "133a5ba5",
   "metadata": {},
   "source": [
    "### Most Game Sale Globally"
   ]
  },
  {
   "cell_type": "code",
   "execution_count": null,
   "id": "3638db72",
   "metadata": {},
   "outputs": [],
   "source": [
    "#top game global\n",
    "top_game_global = df_sales.groupby(['Name'])['Global_Sales'].sum()\n",
    "top_game_global = top_game_global.sort_values(ascending = False).nlargest() #show the largest inside the data\n",
    "top_game_global.plot(kind='bar', color=['mediumpurple','rebeccapurple', 'blueviolet', 'indigo', 'violet'], figsize=(10,10))\n",
    "plt.title('Most Game Sale in Global')\n",
    "plt.ylabel('Number of sale (millions)')\n",
    "plt.xlabel('Name of the Game')\n",
    "plt.xticks(fontsize=10, rotation=45)\n",
    "plt.show()"
   ]
  },
  {
   "cell_type": "markdown",
   "id": "3bdffd41",
   "metadata": {},
   "source": [
    "### Top Publisher in North America"
   ]
  },
  {
   "cell_type": "code",
   "execution_count": null,
   "id": "6de735b3",
   "metadata": {},
   "outputs": [],
   "source": [
    "#top publisher in north america\n",
    "top_publisher_na = df_sales.groupby(['Publisher'])['NA_Sales'].sum()\n",
    "top_publisher_na = top_publisher_na.sort_values(ascending=False).nlargest(10)\n",
    "explode_na = (0,0.1,0,0,0,0,0,0,0,0)\n",
    "top_publisher_na.plot(kind='pie', explode = explode_na, shadow=True, figsize=(10,10), autopct='%1.1f%%', startangle=90)\n",
    "plt.title('Most Famous Publisher in North America')\n",
    "plt.ylabel('')\n",
    "plt.show()"
   ]
  },
  {
   "cell_type": "markdown",
   "id": "df14429f",
   "metadata": {},
   "source": [
    "### Top Publisher in Europe"
   ]
  },
  {
   "cell_type": "code",
   "execution_count": null,
   "id": "7afc1049",
   "metadata": {
    "scrolled": false
   },
   "outputs": [],
   "source": [
    "top_publisher_eu = df_sales.groupby(['Publisher'])['EU_Sales'].sum()\n",
    "top_publisher_eu = top_publisher_eu.sort_values(ascending=False).nlargest(10)\n",
    "explode_eu = (0,0.2,0,0,0,0,0,0,0,0)\n",
    "top_publisher_eu.plot(kind='pie', explode = explode_eu, shadow=True, figsize=(10,10), startangle=90, autopct='%1.1f%%')\n",
    "plt.title('Top Publisher in Europe')\n",
    "plt.ylabel('')\n",
    "plt.show()"
   ]
  },
  {
   "cell_type": "markdown",
   "id": "615d428b",
   "metadata": {},
   "source": [
    "### Famous Platform Globally"
   ]
  },
  {
   "cell_type": "code",
   "execution_count": null,
   "id": "ae0c5aa2",
   "metadata": {},
   "outputs": [],
   "source": [
    "top_platform_global = df_sales.groupby(['Platform'])['Global_Sales'].nunique()\n",
    "top_platform_global = top_platform_global.sort_values(ascending=False).nlargest()\n",
    "color=['red', 'darkred', 'maroon', 'firebrick', 'brown']\n",
    "top_platform_global.plot(kind='bar', figsize=(10,10), color=color)\n",
    "plt.title('Famous Platform Globally', fontsize=20)\n",
    "plt.ylabel('Number of Platform Sold')\n",
    "plt.show()"
   ]
  },
  {
   "cell_type": "markdown",
   "id": "51b0b56e",
   "metadata": {},
   "source": [
    "### Create a dictionary from Dataset"
   ]
  },
  {
   "cell_type": "code",
   "execution_count": null,
   "id": "d816871f",
   "metadata": {},
   "outputs": [],
   "source": [
    "#take data from column and make it into a list\n",
    "publisher_list = df_sales['Publisher'].tolist()\n",
    "sales_global = df_sales['Global_Sales'].tolist()\n",
    "game_year_test = df_sales['Year'].tolist()\n",
    "game_platform = df_sales['Platform'].tolist()\n",
    "name_list = df_sales['Name'].tolist()"
   ]
  },
  {
   "cell_type": "code",
   "execution_count": null,
   "id": "3c4cc9c5",
   "metadata": {},
   "outputs": [],
   "source": [
    "#change dataframe into a dictionary\n",
    "publisher_dict = dict(zip(df_sales['Name'], df_sales['Publisher']))\n",
    "game_year = dict(zip(df_sales['Name'], df_sales['Year']))\n",
    "game_genre = dict(zip(df_sales['Name'], df_sales['Genre']))\n"
   ]
  },
  {
   "cell_type": "code",
   "execution_count": null,
   "id": "43800241",
   "metadata": {
    "scrolled": true
   },
   "outputs": [],
   "source": [
    "#from the list, make it into dictionary\n",
    "from collections import Counter #to calculate total global sales \n",
    "sales_dict = Counter()\n",
    "for key, value in zip(name_list, sales_global):\n",
    "    sales_dict[key] += value\n",
    "\n",
    "sales_dict"
   ]
  },
  {
   "cell_type": "code",
   "execution_count": null,
   "id": "3fc0f8c1",
   "metadata": {},
   "outputs": [],
   "source": [
    "#from the list, make it into dictionary\n",
    "from collections import defaultdict \n",
    "platform_dict = defaultdict(list)\n",
    "for k, v in zip(name_list, game_platform):\n",
    "    platform_dict[k].append(v)\n",
    "    \n",
    "platform_dict"
   ]
  },
  {
   "cell_type": "markdown",
   "id": "9d2a129b",
   "metadata": {},
   "source": [
    "### User Input by Name of Game"
   ]
  },
  {
   "cell_type": "code",
   "execution_count": null,
   "id": "253b2672",
   "metadata": {
    "scrolled": false
   },
   "outputs": [],
   "source": [
    "class Video_Games():\n",
    "    \n",
    "    def __init__(self):\n",
    "        self.user_input()\n",
    "        \n",
    "    def publisher(self):\n",
    "        for name, publisher_name in publisher_dict.items():\n",
    "            if name == self.name:\n",
    "                return publisher_name\n",
    "    \n",
    "    def sales_global(self):\n",
    "        for name, values in sales_dict.items():\n",
    "            if name == self.name:\n",
    "                return values\n",
    "            \n",
    "    def year(self):\n",
    "        for name, year in game_year.items():\n",
    "            if name == self.name:\n",
    "                return year\n",
    "    \n",
    "    def platform(self):\n",
    "        for name, platform in platform_dict.items():\n",
    "            if name == self.name:\n",
    "                return platform\n",
    "            \n",
    "    def genre(self):\n",
    "        for name, genre in game_genre.items():\n",
    "            if name == self.name:\n",
    "                return genre\n",
    "            \n",
    "    def user_input(self):\n",
    "        self.name = input('Please enter your game name: ')\n",
    "        while True:\n",
    "            if self.name not in name_list:\n",
    "                print(f'{self.name} is not in game list. Please try again.')\n",
    "                print('Enter \"q\" to quit the program.')\n",
    "                self.name = input('Please enter your game name: ')\n",
    "                if self.name == 'q':\n",
    "                    print('Thank you!')\n",
    "                    break\n",
    "            else:\n",
    "                return print(f\"\\nThe publisher of {self.name} is {self.publisher()}.\\n\"\n",
    "                             f\"It has sold for {self.sales_global()} millions of copies worldwide!\\n\"\n",
    "                             f\"It was produced in {self.year()}.\\n\"\n",
    "                             f\"It is available on {self.platform()} and has {self.genre()} genre.\")\n",
    "            \n",
    "vg = Video_Games()"
   ]
  },
  {
   "cell_type": "code",
   "execution_count": null,
   "id": "04aebda5",
   "metadata": {},
   "outputs": [],
   "source": [
    "print(*helpDictionary.keys(), sep=', ')"
   ]
  }
 ],
 "metadata": {
  "kernelspec": {
   "display_name": "Python 3",
   "language": "python",
   "name": "python3"
  },
  "language_info": {
   "codemirror_mode": {
    "name": "ipython",
    "version": 3
   },
   "file_extension": ".py",
   "mimetype": "text/x-python",
   "name": "python",
   "nbconvert_exporter": "python",
   "pygments_lexer": "ipython3",
   "version": "3.8.8"
  }
 },
 "nbformat": 4,
 "nbformat_minor": 5
}
